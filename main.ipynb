{
 "cells": [
  {
   "cell_type": "code",
   "outputs": [
    {
     "name": "stdout",
     "output_type": "stream",
     "text": [
      "Collecting wandb\n",
      "  Downloading wandb-0.16.2-py3-none-any.whl.metadata (9.8 kB)\n",
      "Collecting Click!=8.0.0,>=7.1 (from wandb)\n",
      "  Using cached click-8.1.7-py3-none-any.whl.metadata (3.0 kB)\n",
      "Collecting GitPython!=3.1.29,>=1.0.0 (from wandb)\n",
      "  Downloading GitPython-3.1.41-py3-none-any.whl.metadata (14 kB)\n",
      "Requirement already satisfied: requests<3,>=2.0.0 in c:\\users\\ponak\\pycharmprojects\\facenet\\.venv\\lib\\site-packages (from wandb) (2.31.0)\n",
      "Requirement already satisfied: psutil>=5.0.0 in c:\\users\\ponak\\pycharmprojects\\facenet\\.venv\\lib\\site-packages (from wandb) (5.9.7)\n",
      "Collecting sentry-sdk>=1.0.0 (from wandb)\n",
      "  Downloading sentry_sdk-1.39.2-py2.py3-none-any.whl.metadata (9.7 kB)\n",
      "Collecting docker-pycreds>=0.4.0 (from wandb)\n",
      "  Downloading docker_pycreds-0.4.0-py2.py3-none-any.whl (9.0 kB)\n",
      "Requirement already satisfied: PyYAML in c:\\users\\ponak\\pycharmprojects\\facenet\\.venv\\lib\\site-packages (from wandb) (6.0.1)\n",
      "Collecting setproctitle (from wandb)\n",
      "  Downloading setproctitle-1.3.3-cp310-cp310-win_amd64.whl.metadata (10 kB)\n",
      "Requirement already satisfied: setuptools in c:\\users\\ponak\\pycharmprojects\\facenet\\.venv\\lib\\site-packages (from wandb) (69.0.2)\n",
      "Collecting appdirs>=1.4.3 (from wandb)\n",
      "  Downloading appdirs-1.4.4-py2.py3-none-any.whl (9.6 kB)\n",
      "Collecting protobuf!=4.21.0,<5,>=3.19.0 (from wandb)\n",
      "  Downloading protobuf-4.25.2-cp310-abi3-win_amd64.whl.metadata (541 bytes)\n",
      "Requirement already satisfied: colorama in c:\\users\\ponak\\pycharmprojects\\facenet\\.venv\\lib\\site-packages (from Click!=8.0.0,>=7.1->wandb) (0.4.6)\n",
      "Requirement already satisfied: six>=1.4.0 in c:\\users\\ponak\\pycharmprojects\\facenet\\.venv\\lib\\site-packages (from docker-pycreds>=0.4.0->wandb) (1.16.0)\n",
      "Collecting gitdb<5,>=4.0.1 (from GitPython!=3.1.29,>=1.0.0->wandb)\n",
      "  Using cached gitdb-4.0.11-py3-none-any.whl.metadata (1.2 kB)\n",
      "Requirement already satisfied: charset-normalizer<4,>=2 in c:\\users\\ponak\\pycharmprojects\\facenet\\.venv\\lib\\site-packages (from requests<3,>=2.0.0->wandb) (3.3.2)\n",
      "Requirement already satisfied: idna<4,>=2.5 in c:\\users\\ponak\\pycharmprojects\\facenet\\.venv\\lib\\site-packages (from requests<3,>=2.0.0->wandb) (3.6)\n",
      "Requirement already satisfied: urllib3<3,>=1.21.1 in c:\\users\\ponak\\pycharmprojects\\facenet\\.venv\\lib\\site-packages (from requests<3,>=2.0.0->wandb) (2.1.0)\n",
      "Requirement already satisfied: certifi>=2017.4.17 in c:\\users\\ponak\\pycharmprojects\\facenet\\.venv\\lib\\site-packages (from requests<3,>=2.0.0->wandb) (2023.11.17)\n",
      "Collecting smmap<6,>=3.0.1 (from gitdb<5,>=4.0.1->GitPython!=3.1.29,>=1.0.0->wandb)\n",
      "  Using cached smmap-5.0.1-py3-none-any.whl.metadata (4.3 kB)\n",
      "Downloading wandb-0.16.2-py3-none-any.whl (2.2 MB)\n",
      "   ---------------------------------------- 0.0/2.2 MB ? eta -:--:--\n",
      "   -- ------------------------------------- 0.1/2.2 MB 3.6 MB/s eta 0:00:01\n",
      "   ---- ----------------------------------- 0.3/2.2 MB 3.2 MB/s eta 0:00:01\n",
      "   ------- -------------------------------- 0.4/2.2 MB 2.6 MB/s eta 0:00:01\n",
      "   -------------- ------------------------- 0.8/2.2 MB 3.8 MB/s eta 0:00:01\n",
      "   ------------------ --------------------- 1.0/2.2 MB 4.0 MB/s eta 0:00:01\n",
      "   ------------------------- -------------- 1.4/2.2 MB 4.8 MB/s eta 0:00:01\n",
      "   ------------------------------- -------- 1.7/2.2 MB 4.9 MB/s eta 0:00:01\n",
      "   ------------------------------------- -- 2.0/2.2 MB 5.1 MB/s eta 0:00:01\n",
      "   ---------------------------------------- 2.2/2.2 MB 5.3 MB/s eta 0:00:00\n",
      "Using cached click-8.1.7-py3-none-any.whl (97 kB)\n",
      "Downloading GitPython-3.1.41-py3-none-any.whl (196 kB)\n",
      "   ---------------------------------------- 0.0/196.4 kB ? eta -:--:--\n",
      "   ---------------------------------------  194.6/196.4 kB 5.9 MB/s eta 0:00:01\n",
      "   ---------------------------------------- 196.4/196.4 kB 4.0 MB/s eta 0:00:00\n",
      "Downloading protobuf-4.25.2-cp310-abi3-win_amd64.whl (413 kB)\n",
      "   ---------------------------------------- 0.0/413.4 kB ? eta -:--:--\n",
      "   ------------------------------------- - 399.4/413.4 kB 12.6 MB/s eta 0:00:01\n",
      "   ---------------------------------------- 413.4/413.4 kB 6.5 MB/s eta 0:00:00\n",
      "Downloading sentry_sdk-1.39.2-py2.py3-none-any.whl (254 kB)\n",
      "   ---------------------------------------- 0.0/254.1 kB ? eta -:--:--\n",
      "   ---------------------------------------- 254.1/254.1 kB 7.9 MB/s eta 0:00:00\n",
      "Downloading setproctitle-1.3.3-cp310-cp310-win_amd64.whl (11 kB)\n",
      "Using cached gitdb-4.0.11-py3-none-any.whl (62 kB)\n",
      "Using cached smmap-5.0.1-py3-none-any.whl (24 kB)\n",
      "Installing collected packages: appdirs, smmap, setproctitle, sentry-sdk, protobuf, docker-pycreds, Click, gitdb, GitPython, wandb\n",
      "Successfully installed Click-8.1.7 GitPython-3.1.41 appdirs-1.4.4 docker-pycreds-0.4.0 gitdb-4.0.11 protobuf-4.25.2 sentry-sdk-1.39.2 setproctitle-1.3.3 smmap-5.0.1 wandb-0.16.2\n"
     ]
    },
    {
     "name": "stderr",
     "output_type": "stream",
     "text": [
      "\n",
      "[notice] A new release of pip is available: 23.3.1 -> 23.3.2\n",
      "[notice] To update, run: python.exe -m pip install --upgrade pip\n"
     ]
    }
   ],
   "source": [
    "!pip install wandb"
   ],
   "metadata": {
    "collapsed": false,
    "ExecuteTime": {
     "end_time": "2024-01-14T17:32:53.661289800Z",
     "start_time": "2024-01-14T17:32:46.237445Z"
    }
   },
   "id": "63ad6712e3246c1a",
   "execution_count": 1
  },
  {
   "cell_type": "code",
   "outputs": [],
   "source": [
    "import torch\n",
    "import wandb\n",
    "from models import inception_resnet_v1\n",
    "from models.utils.dataset_generator import generate_dataset\n",
    "from models.utils.dataset import TripletFaceDataset\n",
    "from torchvision.transforms import v2\n",
    "from torch.utils.data import DataLoader\n",
    "from models.utils import embed_train\n",
    "from models.mtcnn import MTCNN"
   ],
   "metadata": {
    "collapsed": false,
    "ExecuteTime": {
     "end_time": "2024-01-14T17:34:34.491268900Z",
     "start_time": "2024-01-14T17:34:31.305170900Z"
    }
   },
   "id": "2a82e3734763903a",
   "execution_count": 2
  },
  {
   "cell_type": "code",
   "outputs": [
    {
     "name": "stderr",
     "output_type": "stream",
     "text": [
      "\u001B[34m\u001B[1mwandb\u001B[0m: \u001B[33mWARNING\u001B[0m Calling wandb.login() after wandb.init() has no effect.\n"
     ]
    },
    {
     "data": {
      "text/plain": "<IPython.core.display.HTML object>",
      "text/html": "Finishing last run (ID:xzbz6w1v) before initializing another..."
     },
     "metadata": {},
     "output_type": "display_data"
    },
    {
     "data": {
      "text/plain": "VBox(children=(Label(value='0.001 MB of 0.001 MB uploaded\\r'), FloatProgress(value=1.0, max=1.0)))",
      "application/vnd.jupyter.widget-view+json": {
       "version_major": 2,
       "version_minor": 0,
       "model_id": "be042603c2444fafa90c2cba793299d1"
      }
     },
     "metadata": {},
     "output_type": "display_data"
    },
    {
     "data": {
      "text/plain": "<IPython.core.display.HTML object>",
      "text/html": "W&B sync reduced upload amount by 11.9%             "
     },
     "metadata": {},
     "output_type": "display_data"
    },
    {
     "data": {
      "text/plain": "<IPython.core.display.HTML object>",
      "text/html": " View run <strong style=\"color:#cdcd00\">rose-butterfly-3</strong> at: <a href='https://wandb.ai/ponakilan25/FaceNet/runs/xzbz6w1v' target=\"_blank\">https://wandb.ai/ponakilan25/FaceNet/runs/xzbz6w1v</a><br/> View job at <a href='https://wandb.ai/ponakilan25/FaceNet/jobs/QXJ0aWZhY3RDb2xsZWN0aW9uOjEzMDIxMjkwNw==/version_details/v2' target=\"_blank\">https://wandb.ai/ponakilan25/FaceNet/jobs/QXJ0aWZhY3RDb2xsZWN0aW9uOjEzMDIxMjkwNw==/version_details/v2</a><br/>Synced 5 W&B file(s), 0 media file(s), 2 artifact file(s) and 0 other file(s)"
     },
     "metadata": {},
     "output_type": "display_data"
    },
    {
     "data": {
      "text/plain": "<IPython.core.display.HTML object>",
      "text/html": "Find logs at: <code>.\\wandb\\run-20240114_231125-xzbz6w1v\\logs</code>"
     },
     "metadata": {},
     "output_type": "display_data"
    },
    {
     "data": {
      "text/plain": "<IPython.core.display.HTML object>",
      "text/html": "Successfully finished last run (ID:xzbz6w1v). Initializing new run:<br/>"
     },
     "metadata": {},
     "output_type": "display_data"
    },
    {
     "data": {
      "text/plain": "VBox(children=(Label(value='Waiting for wandb.init()...\\r'), FloatProgress(value=0.011111111111111112, max=1.0…",
      "application/vnd.jupyter.widget-view+json": {
       "version_major": 2,
       "version_minor": 0,
       "model_id": "5040d0f6f2964a2996d7a73c5b7cef74"
      }
     },
     "metadata": {},
     "output_type": "display_data"
    },
    {
     "data": {
      "text/plain": "<IPython.core.display.HTML object>",
      "text/html": "Tracking run with wandb version 0.16.2"
     },
     "metadata": {},
     "output_type": "display_data"
    },
    {
     "data": {
      "text/plain": "<IPython.core.display.HTML object>",
      "text/html": "Run data is saved locally in <code>C:\\Users\\ponak\\PycharmProjects\\FaceNet\\wandb\\run-20240114_231242-exq1rj2k</code>"
     },
     "metadata": {},
     "output_type": "display_data"
    },
    {
     "data": {
      "text/plain": "<IPython.core.display.HTML object>",
      "text/html": "Syncing run <strong><a href='https://wandb.ai/ponakilan25/FaceNet/runs/exq1rj2k' target=\"_blank\">fragrant-energy-4</a></strong> to <a href='https://wandb.ai/ponakilan25/FaceNet' target=\"_blank\">Weights & Biases</a> (<a href='https://wandb.me/run' target=\"_blank\">docs</a>)<br/>"
     },
     "metadata": {},
     "output_type": "display_data"
    },
    {
     "data": {
      "text/plain": "<IPython.core.display.HTML object>",
      "text/html": " View project at <a href='https://wandb.ai/ponakilan25/FaceNet' target=\"_blank\">https://wandb.ai/ponakilan25/FaceNet</a>"
     },
     "metadata": {},
     "output_type": "display_data"
    },
    {
     "data": {
      "text/plain": "<IPython.core.display.HTML object>",
      "text/html": " View run at <a href='https://wandb.ai/ponakilan25/FaceNet/runs/exq1rj2k' target=\"_blank\">https://wandb.ai/ponakilan25/FaceNet/runs/exq1rj2k</a>"
     },
     "metadata": {},
     "output_type": "display_data"
    }
   ],
   "source": [
    "wandb.login()\n",
    "\n",
    "config={\n",
    "    \"learning_rate\": 0.001,\n",
    "    \"momentum\": 0.9,\n",
    "    \"epochs\": 10,\n",
    "    \"batch_size\":32,\n",
    "    \"optimizer\": \"sgd\",\n",
    "    \"margin\": 2.5,\n",
    "    \"image_size\": 128\n",
    "}\n",
    "\n",
    "run = wandb.init(\n",
    "    project=\"FaceNet\",\n",
    "    config=config\n",
    ")\n",
    "\n",
    "config = run.config"
   ],
   "metadata": {
    "collapsed": false,
    "ExecuteTime": {
     "end_time": "2024-01-14T17:42:57.117070200Z",
     "start_time": "2024-01-14T17:42:42.056399400Z"
    }
   },
   "id": "e5f06253fd38fbef",
   "execution_count": 11
  },
  {
   "cell_type": "code",
   "outputs": [],
   "source": [
    "dataset_df = generate_dataset(\"E:\\\\105_classes_pins_dataset\")"
   ],
   "metadata": {
    "collapsed": false,
    "ExecuteTime": {
     "end_time": "2024-01-14T17:42:57.202974600Z",
     "start_time": "2024-01-14T17:42:57.111792200Z"
    }
   },
   "id": "eb0826e6706cbd2b",
   "execution_count": 12
  },
  {
   "cell_type": "code",
   "outputs": [],
   "source": [
    "transform = v2.Compose([\n",
    "    v2.RandomAutocontrast(p=0.13),\n",
    "    v2.RandomAdjustSharpness(2, 0.12)\n",
    "])\n",
    "\n",
    "dataset = TripletFaceDataset(\n",
    "    triplets_dataframe=dataset_df,\n",
    "    cropper=MTCNN(config.image_size),\n",
    "    transform=transform\n",
    ")\n",
    "\n",
    "dataloader = DataLoader(\n",
    "    dataset=dataset,\n",
    "    batch_size=config.batch_size,\n",
    "    num_workers=1\n",
    ") "
   ],
   "metadata": {
    "collapsed": false,
    "ExecuteTime": {
     "end_time": "2024-01-14T17:42:58.004601600Z",
     "start_time": "2024-01-14T17:42:57.975328300Z"
    }
   },
   "id": "49ff50c76fc65ee3",
   "execution_count": 13
  },
  {
   "cell_type": "code",
   "outputs": [],
   "source": [
    "device = torch.device(\"cuda:0\" if torch.cuda.is_available() else \"cpu\")\n",
    "\n",
    "model = inception_resnet_v1.InceptionResnetV1(\n",
    "    pretrained='vggface2',\n",
    "    device=device\n",
    ")"
   ],
   "metadata": {
    "collapsed": false,
    "ExecuteTime": {
     "end_time": "2024-01-14T17:43:13.894938300Z",
     "start_time": "2024-01-14T17:43:13.663831600Z"
    }
   },
   "id": "1b42772c82ca409e",
   "execution_count": 14
  },
  {
   "cell_type": "code",
   "outputs": [
    {
     "name": "stdout",
     "output_type": "stream",
     "text": [
      "\tBatch: 0, Loss: 0.3335\n",
      "\tBatch: 5, Loss: 1.2759\n"
     ]
    }
   ],
   "source": [
    "for i in range(config.epochs):\n",
    "    model, loss = embed_train.train_one_epoch(\n",
    "        model=model,\n",
    "        optimizer=config.optimizer,\n",
    "        lr=config.learning_rate,\n",
    "        momentum=config.momentum,\n",
    "        margin=config.margin,\n",
    "        train_loader=dataloader,\n",
    "        log_interval=5,\n",
    "        device=device,\n",
    "        run=run\n",
    "    )"
   ],
   "metadata": {
    "collapsed": false,
    "is_executing": true,
    "ExecuteTime": {
     "start_time": "2024-01-14T17:43:14.689762900Z"
    }
   },
   "id": "ef5dac9bf7cb20fc",
   "execution_count": null
  }
 ],
 "metadata": {
  "kernelspec": {
   "display_name": "Python 3",
   "language": "python",
   "name": "python3"
  },
  "language_info": {
   "codemirror_mode": {
    "name": "ipython",
    "version": 2
   },
   "file_extension": ".py",
   "mimetype": "text/x-python",
   "name": "python",
   "nbconvert_exporter": "python",
   "pygments_lexer": "ipython2",
   "version": "3.10.0"
  }
 },
 "nbformat": 4,
 "nbformat_minor": 5
}
