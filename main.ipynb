{
 "cells": [
  {
   "cell_type": "code",
   "execution_count": 5,
   "id": "initial_id",
   "metadata": {
    "collapsed": true,
    "ExecuteTime": {
     "end_time": "2024-01-11T17:06:08.605451200Z",
     "start_time": "2024-01-11T17:06:08.531292200Z"
    }
   },
   "outputs": [],
   "source": [
    "from dataset_generator import generate_dataset\n",
    "from dataset import TripletFaceDataset\n",
    "from torchvision import transforms\n",
    "from torch.utils.data import DataLoader\n",
    "import time\n",
    "import numpy as np\n",
    "\n",
    "df = generate_dataset(\"E:\\\\105_classes_pins_dataset\")"
   ]
  },
  {
   "cell_type": "code",
   "outputs": [],
   "source": [
    "transform = transforms.Compose([\n",
    "    transforms.Resize((128, 128)),\n",
    "])\n",
    "\n",
    "dataset = TripletFaceDataset(df, transform)\n",
    "dataloader = DataLoader(\n",
    "    dataset, \n",
    "    batch_size=10,\n",
    "    shuffle=True,\n",
    "    num_workers=4\n",
    ")"
   ],
   "metadata": {
    "collapsed": false,
    "ExecuteTime": {
     "end_time": "2024-01-11T17:06:10.039429700Z",
     "start_time": "2024-01-11T17:06:10.028876300Z"
    }
   },
   "id": "a7c307b92ede8045",
   "execution_count": 6
  },
  {
   "cell_type": "code",
   "outputs": [
    {
     "name": "stdout",
     "output_type": "stream",
     "text": [
      "5584.690582752228\n"
     ]
    }
   ],
   "source": [
    "times = []\n",
    "for j in range(3):\n",
    "    start = time.time()\n",
    "    next(iter(dataloader))\n",
    "    end = time.time()\n",
    "    times.append(end - start)\n",
    "print(np.array(times).mean()*len(dataloader))"
   ],
   "metadata": {
    "collapsed": false,
    "ExecuteTime": {
     "end_time": "2024-01-11T17:06:55.059983700Z",
     "start_time": "2024-01-11T17:06:21.197651Z"
    }
   },
   "id": "2ba9f01eb56b543e",
   "execution_count": 7
  }
 ],
 "metadata": {
  "kernelspec": {
   "display_name": "Python 3",
   "language": "python",
   "name": "python3"
  },
  "language_info": {
   "codemirror_mode": {
    "name": "ipython",
    "version": 2
   },
   "file_extension": ".py",
   "mimetype": "text/x-python",
   "name": "python",
   "nbconvert_exporter": "python",
   "pygments_lexer": "ipython2",
   "version": "2.7.6"
  }
 },
 "nbformat": 4,
 "nbformat_minor": 5
}
