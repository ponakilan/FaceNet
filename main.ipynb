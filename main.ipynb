{
 "cells": [
  {
   "cell_type": "code",
   "outputs": [],
   "source": [
    "import torch\n",
    "\n",
    "from models import inception_resnet_v1\n",
    "from models.utils.dataset_generator import generate_dataset\n",
    "from models.utils.dataset import TripletFaceDataset\n",
    "from torchvision.transforms import v2\n",
    "from torch.utils.data import DataLoader\n",
    "from models.utils import embed_train"
   ],
   "metadata": {
    "collapsed": false,
    "ExecuteTime": {
     "end_time": "2024-01-14T14:41:55.812903800Z",
     "start_time": "2024-01-14T14:41:51.896542800Z"
    }
   },
   "id": "63ad6712e3246c1a",
   "execution_count": 1
  },
  {
   "cell_type": "code",
   "outputs": [],
   "source": [
    "dataset_df = generate_dataset(\"E:\\\\105_classes_pins_dataset\")"
   ],
   "metadata": {
    "collapsed": false,
    "ExecuteTime": {
     "end_time": "2024-01-14T14:41:55.932895100Z",
     "start_time": "2024-01-14T14:41:55.817172800Z"
    }
   },
   "id": "eb0826e6706cbd2b",
   "execution_count": 2
  },
  {
   "cell_type": "code",
   "outputs": [],
   "source": [
    "transform = v2.Compose([\n",
    "    v2.RandomAutocontrast(p=0.13),\n",
    "    v2.RandomAdjustSharpness(2, 0.12)\n",
    "])\n",
    "\n",
    "dataset = TripletFaceDataset(\n",
    "    triplets_dataframe=dataset_df,\n",
    "    image_size=128,\n",
    "    transform=transform\n",
    ")\n",
    "\n",
    "dataloader = DataLoader(\n",
    "    dataset=dataset,\n",
    "    batch_size=2,\n",
    "    num_workers=1\n",
    ") "
   ],
   "metadata": {
    "collapsed": false,
    "ExecuteTime": {
     "end_time": "2024-01-14T14:41:55.977636Z",
     "start_time": "2024-01-14T14:41:55.938051600Z"
    }
   },
   "id": "49ff50c76fc65ee3",
   "execution_count": 3
  },
  {
   "cell_type": "code",
   "outputs": [],
   "source": [
    "device = torch.device(\"cuda:0\" if torch.cuda.is_available() else \"cpu\")\n",
    "\n",
    "model = inception_resnet_v1.InceptionResnetV1(\n",
    "    pretrained='vggface2',\n",
    "    device=device\n",
    ")"
   ],
   "metadata": {
    "collapsed": false,
    "ExecuteTime": {
     "end_time": "2024-01-14T14:41:56.432563Z",
     "start_time": "2024-01-14T14:41:55.984024100Z"
    }
   },
   "id": "1b42772c82ca409e",
   "execution_count": 4
  },
  {
   "cell_type": "code",
   "outputs": [
    {
     "name": "stdout",
     "output_type": "stream",
     "text": [
      "\tBatch: 0, Loss: 0.1218\n",
      "\tBatch: 5, Loss: 0.0430\n",
      "\tBatch: 10, Loss: 0.0000\n",
      "\tBatch: 15, Loss: 0.0000\n",
      "\tBatch: 20, Loss: 0.0000\n",
      "\tBatch: 25, Loss: 0.0000\n",
      "\tBatch: 30, Loss: 0.0000\n",
      "\tBatch: 35, Loss: 0.0000\n",
      "\tBatch: 40, Loss: 0.0000\n",
      "\tBatch: 45, Loss: 0.0000\n"
     ]
    }
   ],
   "source": [
    "EPOCHS = 10\n",
    "for i in range(EPOCHS):\n",
    "    model, loss = embed_train.train_one_epoch(\n",
    "                       model=model,\n",
    "                       optimizer='sgd',\n",
    "                       lr=0.001,\n",
    "                       momentum=0.9,\n",
    "                       margin=1.3,\n",
    "                       train_loader=dataloader,\n",
    "                       log_interval=5,\n",
    "                       device=device\n",
    "                   )\n",
    "    print(loss)"
   ],
   "metadata": {
    "collapsed": false,
    "is_executing": true,
    "ExecuteTime": {
     "start_time": "2024-01-14T14:41:56.435667500Z"
    }
   },
   "id": "ef5dac9bf7cb20fc",
   "execution_count": null
  }
 ],
 "metadata": {
  "kernelspec": {
   "display_name": "Python 3",
   "language": "python",
   "name": "python3"
  },
  "language_info": {
   "codemirror_mode": {
    "name": "ipython",
    "version": 2
   },
   "file_extension": ".py",
   "mimetype": "text/x-python",
   "name": "python",
   "nbconvert_exporter": "python",
   "pygments_lexer": "ipython2",
   "version": "3.10.0"
  }
 },
 "nbformat": 4,
 "nbformat_minor": 5
}
